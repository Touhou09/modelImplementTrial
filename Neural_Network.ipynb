{
  "nbformat": 4,
  "nbformat_minor": 0,
  "metadata": {
    "colab": {
      "provenance": [],
      "collapsed_sections": [],
      "authorship_tag": "ABX9TyP2YE8fysbPntn9+2Sd6eqv",
      "include_colab_link": true
    },
    "kernelspec": {
      "name": "python3",
      "display_name": "Python 3"
    },
    "language_info": {
      "name": "python"
    }
  },
  "cells": [
    {
      "cell_type": "markdown",
      "metadata": {
        "id": "view-in-github",
        "colab_type": "text"
      },
      "source": [
        "<a href=\"https://colab.research.google.com/github/Touhou09/modelImplementTrial/blob/main/Neural_Network.ipynb\" target=\"_parent\"><img src=\"https://colab.research.google.com/assets/colab-badge.svg\" alt=\"Open In Colab\"/></a>"
      ]
    },
    {
      "cell_type": "markdown",
      "source": [
        "\n",
        "퍼셉트론은 가중치를 사람이 수동으로 설치해야 하지만 신경망은 가중치 매개변수의 적절한 값을 데이터로부터 자동으로 학습한다.\n",
        "\n",
        "\n"
      ],
      "metadata": {
        "id": "wj1fUzobO0yv"
      }
    },
    {
      "cell_type": "markdown",
      "source": [
        "# 퍼셉트론에서 신경망으로"
      ],
      "metadata": {
        "id": "TnRH45GbRKGD"
      }
    },
    {
      "cell_type": "code",
      "source": [
        "# 신경망 그림 3-1"
      ],
      "metadata": {
        "id": "wrHxNy1FRQ8L"
      },
      "execution_count": null,
      "outputs": []
    },
    {
      "cell_type": "markdown",
      "source": [
        "위 그림과 같이 퍼셉트론과 크게 다르지 않아 보이고 실제로도 뉴런이 연결되는 방식은 퍼셉트론과 동일하다.\n",
        "\n"
      ],
      "metadata": {
        "id": "RWeLhW9ORSn5"
      }
    },
    {
      "cell_type": "code",
      "source": [
        "# 신경망 식"
      ],
      "metadata": {
        "id": "jzuitinYRk_H"
      },
      "execution_count": null,
      "outputs": []
    },
    {
      "cell_type": "markdown",
      "source": [
        "위의 식처럼 입력신호의 총합을 출력신호로 변환하는 함수를 '활성화 함수'라고 한다.\n",
        "\n",
        "위의 식은 가중치가 곱해진 입력 신호의 총합을 계산하고, 그 합을 활성화 함수에 입력해 결과를 내는 2단계로 처리되어 아래와 같은 2개의 식으로 나눌 수 있다"
      ],
      "metadata": {
        "id": "acBScZVTRkeD"
      }
    },
    {
      "cell_type": "code",
      "source": [
        "# 활성화 식 2개"
      ],
      "metadata": {
        "id": "I-mkczIzSAmC"
      },
      "execution_count": null,
      "outputs": []
    },
    {
      "cell_type": "markdown",
      "source": [
        "식 1은 가중치가 달린 입력 신화와 편향의 총합을 계산하고 이를 a라고 한다.\n",
        "\n",
        "식 2는 a를 함수 h()에 넣어 y를 출력한다.\n",
        "\n",
        "식 1과 2를 그림으로 표현하면 아래와 같다."
      ],
      "metadata": {
        "id": "PQr68SV-SEk9"
      }
    },
    {
      "cell_type": "code",
      "source": [
        "# 활성화함수 처리그림\n",
        "# 활성화 과정 그림"
      ],
      "metadata": {
        "id": "FAWh4cSwScKq"
      },
      "execution_count": null,
      "outputs": []
    },
    {
      "cell_type": "markdown",
      "source": [
        "위 그림에서 가중치 신호를 조합한 결과가 a라는 노드가 되고, 활성화 함수 h()를 통과해 y라는 노드로 변환된다.\n"
      ],
      "metadata": {
        "id": "JiRlqUKUSeKc"
      }
    },
    {
      "cell_type": "markdown",
      "source": [
        "# 활성화 함수\n",
        "\n",
        "활성화 함수가 임계값을 경계로 출력이 바뀌는데, 이런 함수를 '계단함수'라고 한다.\n",
        "\n",
        "즉, 퍼셉트론은 계단함수를 이용한다.\n",
        "\n",
        "신경망은 계단함수 외에도 다른 함수를 이용할 수 있다.\n",
        "\n",
        "* 시그모이드 함수\n"
      ],
      "metadata": {
        "id": "bcAFn_XndrkM"
      }
    },
    {
      "cell_type": "code",
      "source": [
        "# 시그모이드 식"
      ],
      "metadata": {
        "id": "jUIWbLWPkVdw"
      },
      "execution_count": null,
      "outputs": []
    },
    {
      "cell_type": "markdown",
      "source": [
        "신경망에서는 활성화 함수로 시그모이드 함수를 이용하여 신호를 변환하고, 그 변환된 신호를 다음 뉴런에게 전달한다.\n",
        "퍼셉트론과의 차이는 활성화 함수 뿐이다.\n",
        "그 외에 뉴런이 여러 층으로 이어지는 구조와 신호를 전달하는 방법은 기본적으로 퍼셉트론과 같다.\n"
      ],
      "metadata": {
        "id": "o_ZzhrMhkYmk"
      }
    },
    {
      "cell_type": "markdown",
      "source": [
        "* 계단 함수\n",
        "계단 함수는 입력이 0을 넘으면 1을 출력하고 그 외에는 0을 출력하는 함수이다.\n",
        "식을 코드로 구현하면 아래와 같다."
      ],
      "metadata": {
        "id": "2Bie7xz0moCp"
      }
    },
    {
      "cell_type": "code",
      "source": [
        "def step_function(x):\n",
        "  if x>0:\n",
        "    return 1\n",
        "  else:\n",
        "    return 0"
      ],
      "metadata": {
        "id": "M6nUro2zm09K"
      },
      "execution_count": null,
      "outputs": []
    },
    {
      "cell_type": "markdown",
      "source": [
        "넘파이 배열을 지원하도록 수정하면 아래와 같다."
      ],
      "metadata": {
        "id": "rO06ls-cm8-L"
      }
    },
    {
      "cell_type": "code",
      "source": [
        "def step_function_numpy(x):\n",
        "  y = x > 0\n",
        "  return y.astype(np.int)\n",
        "# numpy의 자료형을 변환할때는 astype()으로 변형한다"
      ],
      "metadata": {
        "id": "tMYBk5WKnD-v"
      },
      "execution_count": null,
      "outputs": []
    },
    {
      "cell_type": "markdown",
      "source": [
        "계단 함수의 그래프를 직접 그리면 아래와 같다."
      ],
      "metadata": {
        "id": "ibWKsw01xfUD"
      }
    },
    {
      "cell_type": "code",
      "source": [
        "import numpy as np\n",
        "import matplotlib.pylab as plt\n",
        "\n",
        "def step_function(x):\n",
        "  return np.array(x > 0, dtype = np.int)\n",
        "\n",
        "x = np.arange(-5.0,5.0,0.1)\n",
        "y = step_function(x)\n",
        "\n",
        "plt.plot(x,y)\n",
        "plt.ylim(-0.1,1.1)\n",
        "plt.show()"
      ],
      "metadata": {
        "colab": {
          "base_uri": "https://localhost:8080/",
          "height": 339
        },
        "id": "9gXUxruUxeF1",
        "outputId": "13ea0cec-7ab2-4e08-b7de-79390be7e6a3"
      },
      "execution_count": 10,
      "outputs": [
        {
          "output_type": "stream",
          "name": "stderr",
          "text": [
            "/usr/local/lib/python3.7/dist-packages/ipykernel_launcher.py:5: DeprecationWarning: `np.int` is a deprecated alias for the builtin `int`. To silence this warning, use `int` by itself. Doing this will not modify any behavior and is safe. When replacing `np.int`, you may wish to use e.g. `np.int64` or `np.int32` to specify the precision. If you wish to review your current use, check the release note link for additional information.\n",
            "Deprecated in NumPy 1.20; for more details and guidance: https://numpy.org/devdocs/release/1.20.0-notes.html#deprecations\n",
            "  \"\"\"\n"
          ]
        },
        {
          "output_type": "display_data",
          "data": {
            "text/plain": [
              "<Figure size 432x288 with 1 Axes>"
            ],
            "image/png": "[encoded data removed]"
          },
          "metadata": {
            "needs_background": "light"
          }
        }
      ]
    },
    {
      "cell_type": "markdown",
      "source": [
        "시그모이드 함수 구현은 아래와 같다"
      ],
      "metadata": {
        "id": "8dm0NPgDxdri"
      }
    },
    {
      "cell_type": "code",
      "source": [
        "def sigmoid(x):\n",
        "  return 1 / (1 + np.exp(-x))\n",
        "# exp(-x)는 e^-x 와 같다\n",
        "\n",
        "x = np.array([-1.0,1.0,2.0])\n",
        "\n",
        "sigmoid(x)"
      ],
      "metadata": {
        "colab": {
          "base_uri": "https://localhost:8080/"
        },
        "id": "EBaSTPXYyLZK",
        "outputId": "2c68150d-b2c8-4349-d7a9-6699840c90b3"
      },
      "execution_count": 11,
      "outputs": [
        {
          "output_type": "execute_result",
          "data": {
            "text/plain": [
              "array([0.26894142, 0.73105858, 0.88079708])"
            ]
          },
          "metadata": {},
          "execution_count": 11
        }
      ]
    },
    {
      "cell_type": "code",
      "source": [
        "x = np.array([-5.0,5.0,0.01])\n",
        "y = sigmoid(x)\n",
        "\n",
        "plt.plot(x,y)\n",
        "plt.ylim(-0.1,1.1)\n",
        "plt.show()\n",
        "# 그래프가 꼬여서 나옴"
      ],
      "metadata": {
        "colab": {
          "base_uri": "https://localhost:8080/",
          "height": 265
        },
        "id": "yD7phhyM0Aqv",
        "outputId": "4592db3f-bf69-4128-fc3b-f5e712ac4496"
      },
      "execution_count": 13,
      "outputs": [
        {
          "output_type": "display_data",
          "data": {
            "text/plain": [
              "<Figure size 432x288 with 1 Axes>"
            ],
            "image/png": "[encoded data removed]"
          },
          "metadata": {
            "needs_background": "light"
          }
        }
      ]
    },
    {
      "cell_type": "markdown",
      "source": [
        "* 시그모이드 함수와 계단 함수의 비교\n",
        "\n",
        "두 함수의 차이는 연속적인지 아닌지 이고, 두 함수의 공통점은 입력이 아무리 크거나 작아도 출력이 0과 1로 수렴한다는 점이다.\n",
        "\n",
        "* 비선형 함수\n",
        "\n",
        "계단 함수와 시그모이드 함수 둘 다 비선형 함수이다.\n",
        "\n",
        "신경망에서는 비선형 함수를 활성화 함수를 사용한다.\n",
        "\n",
        "그 이유는 선형 함수는 아무리 층을 깊게 해도 은닉층이 없는 네트워크와 차이가 없다.\n",
        "\n",
        "즉, 은닉층이 있는 네트워크를 구성하기 위해서는 비선형 함수를 사용해서 구성해야한다.\n",
        "\n"
      ],
      "metadata": {
        "id": "GjgTj1Rf1tsa"
      }
    },
    {
      "cell_type": "markdown",
      "source": [
        "* ReLU 함수\n",
        "최근에 시그모이드 대신 이용하는 함수이다.\n",
        "\n",
        "ReLU는 입력이 0을 넘으면 그 값을 출력하고 0 이하이면 0을 출력하는 함수이다.\n",
        "\n",
        "수식은 아래와 같다."
      ],
      "metadata": {
        "id": "jX5r2h4T4HcU"
      }
    },
    {
      "cell_type": "code",
      "source": [
        "# ReLU 식"
      ],
      "metadata": {
        "id": "9DZXLnRT0Su9"
      },
      "execution_count": null,
      "outputs": []
    },
    {
      "cell_type": "markdown",
      "source": [
        "식 자체가 간단하므로 아래와 같이 간단하게 표현 가능하다."
      ],
      "metadata": {
        "id": "PRUObGXPICXL"
      }
    },
    {
      "cell_type": "code",
      "source": [
        "def ReLU(x):\n",
        "  return np.maximum(0,x)"
      ],
      "metadata": {
        "id": "xi7bjnW4IGyU"
      },
      "execution_count": 14,
      "outputs": []
    },
    {
      "cell_type": "markdown",
      "source": [
        "# 다차원 배열의 계산\n",
        "\n"
      ],
      "metadata": {
        "id": "BRAgkxDmSayt"
      }
    },
    {
      "cell_type": "code",
      "source": [
        "# 1차원 배열\n",
        "A = np.array([1,2,3,4])\n",
        "\n",
        "print(A)\n",
        "\n",
        "np.ndim(A)\n",
        "\n",
        "A.shape\n",
        "\n",
        "A.shape[0]\n"
      ],
      "metadata": {
        "colab": {
          "base_uri": "https://localhost:8080/"
        },
        "id": "LqKrMY3rINAG",
        "outputId": "445ed19f-6d6f-4156-cdc8-9e472818a8f8"
      },
      "execution_count": 19,
      "outputs": [
        {
          "output_type": "stream",
          "name": "stdout",
          "text": [
            "[1 2 3 4]\n"
          ]
        },
        {
          "output_type": "execute_result",
          "data": {
            "text/plain": [
              "4"
            ]
          },
          "metadata": {},
          "execution_count": 19
        }
      ]
    },
    {
      "cell_type": "code",
      "source": [
        "# 2차원 배열\n",
        "B = np.array([[1,2],[3,4],[5,6]])\n",
        "print(B)\n",
        "\n",
        "np.ndim(B)"
      ],
      "metadata": {
        "colab": {
          "base_uri": "https://localhost:8080/"
        },
        "id": "GQPGLWMMS03K",
        "outputId": "85f8b5d9-8068-47a6-a614-6a58918f18f9"
      },
      "execution_count": 21,
      "outputs": [
        {
          "output_type": "stream",
          "name": "stdout",
          "text": [
            "[[1 2]\n",
            " [3 4]\n",
            " [5 6]]\n"
          ]
        },
        {
          "output_type": "execute_result",
          "data": {
            "text/plain": [
              "2"
            ]
          },
          "metadata": {},
          "execution_count": 21
        }
      ]
    },
    {
      "cell_type": "code",
      "source": [
        "# 행렬의 곱\n",
        "A = np.array([[1,2],[3,4]])\n",
        "A.shape\n",
        "\n",
        "B = np.array([[5,6],[7,8]])\n",
        "B.shape\n",
        "\n",
        "np.dot(A,B)"
      ],
      "metadata": {
        "colab": {
          "base_uri": "https://localhost:8080/"
        },
        "id": "pIWziNgvTJ9B",
        "outputId": "9b642c59-5f04-4ffe-88da-f199c0ca0843"
      },
      "execution_count": 24,
      "outputs": [
        {
          "output_type": "execute_result",
          "data": {
            "text/plain": [
              "array([[19, 22],\n",
              "       [43, 50]])"
            ]
          },
          "metadata": {},
          "execution_count": 24
        }
      ]
    },
    {
      "cell_type": "code",
      "source": [
        "# 행렬의 형식이 다른 경우의 곱\n",
        "A = np.array([[1,2,3],[4,5,6]])\n",
        "A.shape\n",
        "\n",
        "B = np.array([[1,2],[3,4],[5,6]])\n",
        "B.shape\n",
        "\n",
        "np.dot(A,B)"
      ],
      "metadata": {
        "colab": {
          "base_uri": "https://localhost:8080/"
        },
        "id": "COdxqVhWTVUK",
        "outputId": "d5e13448-743e-40fe-b69f-bb42be161038"
      },
      "execution_count": 25,
      "outputs": [
        {
          "output_type": "execute_result",
          "data": {
            "text/plain": [
              "array([[22, 28],\n",
              "       [49, 64]])"
            ]
          },
          "metadata": {},
          "execution_count": 25
        }
      ]
    },
    {
      "cell_type": "code",
      "source": [
        "# 두 행렬의 대응하는 차원 수가 동일해야한다.\n",
        "\n",
        "C = np.array([[1,2],[3,4]])\n",
        "C.shape\n",
        "\n",
        "# np.dot(A,C)"
      ],
      "metadata": {
        "colab": {
          "base_uri": "https://localhost:8080/"
        },
        "id": "W1-CypiwW-x5",
        "outputId": "036a4116-ddb3-42b1-f3d6-4f9d031fed15"
      },
      "execution_count": 27,
      "outputs": [
        {
          "output_type": "execute_result",
          "data": {
            "text/plain": [
              "(2, 2)"
            ]
          },
          "metadata": {},
          "execution_count": 27
        }
      ]
    },
    {
      "cell_type": "code",
      "source": [],
      "metadata": {
        "id": "ZhoB1pOBd34H"
      },
      "execution_count": null,
      "outputs": []
    }
  ]
}